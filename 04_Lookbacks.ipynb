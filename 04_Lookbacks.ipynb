{
 "cells": [
  {
   "cell_type": "markdown",
   "metadata": {},
   "source": [
    "## Lookback Put Option.\n",
    "\n",
    "Contribution by: [Kumarjb](https://github.com/Kumarjb)\n",
    "\n",
    "This script breaks down the implementation of a lookback put option (floating strike) timetable. \n",
    "\n",
    "- It is packaged as a single method [here](./src/contracts/lookback.py).\n",
    "- It has been validated against literature results [here](04a_LookbacksValidation.ipynb)\n",
    "- It has been priced with different models [here](./04b_Lookbacks_Model_Prices.ipynb)"
   ]
  },
  {
   "cell_type": "code",
   "execution_count": 1,
   "metadata": {},
   "outputs": [],
   "source": [
    "from datetime import timedelta\n",
    "\n",
    "import numpy as np\n",
    "import pandas as pd\n",
    "from pyarrow import RecordBatch as rb\n",
    "from qablet_contracts.timetable import TS_EVENT_SCHEMA"
   ]
  },
  {
   "cell_type": "code",
   "execution_count": 2,
   "metadata": {},
   "outputs": [],
   "source": [
    "ticker = \"SPX\"\n",
    "start_date = pd.to_datetime(\"2005-09-14\")\n",
    "T = 0.2\n",
    "num_points = 4"
   ]
  },
  {
   "cell_type": "markdown",
   "metadata": {},
   "source": [
    "find fixing dates, including the start date, but not the maturity date. The minimum of the spots on these dates will be the floating strike."
   ]
  },
  {
   "cell_type": "code",
   "execution_count": 3,
   "metadata": {},
   "outputs": [],
   "source": [
    "days_to_maturity = T * 365.25\n",
    "maturity = start_date + timedelta(days=days_to_maturity)\n",
    "\n",
    "fix_dates = pd.date_range(\n",
    "    start=start_date,\n",
    "    end=maturity,\n",
    "    periods=num_points + 1,\n",
    "    inclusive=\"left\",\n",
    ")"
   ]
  },
  {
   "cell_type": "markdown",
   "metadata": {},
   "source": [
    "initialize the floating strike."
   ]
  },
  {
   "cell_type": "code",
   "execution_count": 4,
   "metadata": {},
   "outputs": [],
   "source": [
    "events = [\n",
    "    {\n",
    "        \"track\": \"\",\n",
    "        \"time\": fix_dates[0],\n",
    "        \"op\": None,\n",
    "        \"quantity\": 0,\n",
    "        \"unit\": \"INIT\",\n",
    "    }\n",
    "]"
   ]
  },
  {
   "cell_type": "markdown",
   "metadata": {},
   "source": [
    "update the floating strike at each subsequent fixing date."
   ]
  },
  {
   "cell_type": "code",
   "execution_count": 5,
   "metadata": {},
   "outputs": [],
   "source": [
    "for fixing_time in fix_dates[1:]:\n",
    "    events.append(\n",
    "        {\n",
    "            \"track\": \"\",\n",
    "            \"time\": fixing_time,\n",
    "            \"op\": None,\n",
    "            \"quantity\": 0,\n",
    "            \"unit\": \"UPDATE\",\n",
    "        }\n",
    "    )"
   ]
  },
  {
   "cell_type": "markdown",
   "metadata": {},
   "source": [
    "the final payoff."
   ]
  },
  {
   "cell_type": "code",
   "execution_count": 6,
   "metadata": {},
   "outputs": [],
   "source": [
    "events.append(\n",
    "    {\n",
    "        \"track\": \"\",\n",
    "        \"time\": maturity,\n",
    "        \"op\": \"+\",\n",
    "        \"quantity\": 1,\n",
    "        \"unit\": \"LOOKBACK\",\n",
    "    }\n",
    ")"
   ]
  },
  {
   "cell_type": "markdown",
   "metadata": {},
   "source": [
    "now define the init, update and the payoff functions."
   ]
  },
  {
   "cell_type": "code",
   "execution_count": 7,
   "metadata": {},
   "outputs": [],
   "source": [
    "# Defining fixed strike look-back put payoff function\n",
    "def lookback_put_pay_fn(inputs):\n",
    "    [ticker, s_max] = inputs\n",
    "    return [np.maximum(s_max - ticker, 0)]\n",
    "\n",
    "\n",
    "events_table = rb.from_pylist(events, schema=TS_EVENT_SCHEMA)\n",
    "timetable = {\n",
    "    \"events\": events_table,\n",
    "    \"expressions\": {\n",
    "        \"LOOKBACK\": {\n",
    "            \"type\": \"phrase\",\n",
    "            \"inp\": [ticker, \"MAX_SPOT\"],\n",
    "            \"fn\": lookback_put_pay_fn,\n",
    "        },\n",
    "        \"UPDATE\": {\n",
    "            \"type\": \"snapper\",\n",
    "            \"inp\": [ticker, \"MAX_SPOT\"],\n",
    "            \"fn\": lambda inputs: [np.maximum(inputs[0], inputs[1])],\n",
    "            \"out\": [\"MAX_SPOT\"],\n",
    "        },\n",
    "        \"INIT\": {\n",
    "            \"type\": \"snapper\",\n",
    "            \"inp\": [ticker],\n",
    "            \"fn\": lambda inputs: inputs,\n",
    "            \"out\": [\"MAX_SPOT\"],\n",
    "        },\n",
    "    },\n",
    "}"
   ]
  },
  {
   "cell_type": "code",
   "execution_count": 8,
   "metadata": {},
   "outputs": [
    {
     "name": "stdout",
     "output_type": "stream",
     "text": [
      "                       time   op  quantity      unit track\n",
      "0 2005-09-14 00:00:00+00:00  NaN       0.0      INIT      \n",
      "1 2005-10-02 06:18:00+00:00  NaN       0.0    UPDATE      \n",
      "2 2005-10-20 12:36:00+00:00  NaN       0.0    UPDATE      \n",
      "3 2005-11-07 18:54:00+00:00  NaN       0.0    UPDATE      \n",
      "4 2005-11-26 01:12:00+00:00    +       1.0  LOOKBACK      \n"
     ]
    }
   ],
   "source": [
    "print(timetable[\"events\"].to_pandas())"
   ]
  }
 ],
 "metadata": {
  "kernelspec": {
   "display_name": "base",
   "language": "python",
   "name": "python3"
  },
  "language_info": {
   "codemirror_mode": {
    "name": "ipython",
    "version": 3
   },
   "file_extension": ".py",
   "mimetype": "text/x-python",
   "name": "python",
   "nbconvert_exporter": "python",
   "pygments_lexer": "ipython3",
   "version": "3.11.9"
  }
 },
 "nbformat": 4,
 "nbformat_minor": 2
}
