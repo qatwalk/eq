{
 "cells": [
  {
   "cell_type": "markdown",
   "metadata": {},
   "source": [
    "# Vanilla Option\n",
    "This is a simple example of comparing prices of a single Vanilla Option using different models.\n",
    "The intention of this notebook is to get familiar with the modules and packages.\n",
    "\n",
    "Options of different strikes and Maturities are compared in [01a_VanillaSurface](01a_VanillaSurface.ipynb) "
   ]
  },
  {
   "cell_type": "code",
   "execution_count": 1,
   "metadata": {},
   "outputs": [],
   "source": [
    "from datetime import datetime\n",
    "\n",
    "# Models (one from finmc and two in this repo)\n",
    "from finmc.models.heston import HestonMC\n",
    "from qablet.base.mc import MCPricer\n",
    "\n",
    "# Contracts\n",
    "from qablet_contracts.eq.vanilla import Option\n",
    "\n",
    "# Data\n",
    "from data.spx_2005_09_15 import basic_info, dataset\n",
    "from src.model.localvol import LVMC\n",
    "from src.model.rbergomi import rBergomiMC"
   ]
  },
  {
   "cell_type": "markdown",
   "metadata": {},
   "source": [
    "### Contract\n",
    "We will create the timetable for a vanilla option using [qablet_contracts.eq.vanilla.Option](https://qablet.github.io/qablet-contracts/examples/equity_vanilla)\n",
    "\n",
    "Let's first check the basic info about the data samples."
   ]
  },
  {
   "cell_type": "code",
   "execution_count": 2,
   "metadata": {},
   "outputs": [
    {
     "name": "stdout",
     "output_type": "stream",
     "text": [
      "{'prc_dt': datetime.datetime(2005, 9, 14, 0, 0), 'ticker': 'SPX', 'ccy': 'USD', 'spot': 1227.16}\n"
     ]
    }
   ],
   "source": [
    "print(basic_info)"
   ]
  },
  {
   "cell_type": "code",
   "execution_count": 3,
   "metadata": {},
   "outputs": [
    {
     "name": "stdout",
     "output_type": "stream",
     "text": [
      "                       time op  quantity unit track\n",
      "0 2005-12-16 00:00:00+00:00  >       0.0  USD      \n",
      "1 2005-12-16 00:00:00+00:00  +   -1250.0  USD      \n",
      "2 2005-12-16 00:00:00+00:00  +       1.0  SPX      \n"
     ]
    }
   ],
   "source": [
    "opt_timetable = Option(\n",
    "    \"USD\",\n",
    "    \"SPX\",\n",
    "    strike=1250,\n",
    "    maturity=datetime(2005, 12, 16),\n",
    "    is_call=True,\n",
    ").timetable()\n",
    "\n",
    "print(opt_timetable[\"events\"].to_pandas())"
   ]
  },
  {
   "cell_type": "markdown",
   "metadata": {},
   "source": [
    "### Compare Models\n",
    "Compare different models, starting with Local Volatility Model."
   ]
  },
  {
   "cell_type": "code",
   "execution_count": 4,
   "metadata": {},
   "outputs": [
    {
     "name": "stdout",
     "output_type": "stream",
     "text": [
      "Localvol price: 23.13366428965955\n"
     ]
    }
   ],
   "source": [
    "model = MCPricer(LVMC)\n",
    "price, _ = model.price(opt_timetable, dataset)\n",
    "print(f\"Localvol price: {price}\")"
   ]
  },
  {
   "cell_type": "markdown",
   "metadata": {},
   "source": [
    "Heston Model"
   ]
  },
  {
   "cell_type": "code",
   "execution_count": 5,
   "metadata": {},
   "outputs": [
    {
     "name": "stdout",
     "output_type": "stream",
     "text": [
      "Heston price: 24.7124953779593\n"
     ]
    }
   ],
   "source": [
    "model = MCPricer(HestonMC)\n",
    "price, _ = model.price(opt_timetable, dataset)\n",
    "print(f\"Heston price: {price}\")"
   ]
  },
  {
   "cell_type": "markdown",
   "metadata": {},
   "source": [
    "Bergomi Model"
   ]
  },
  {
   "cell_type": "code",
   "execution_count": 6,
   "metadata": {},
   "outputs": [
    {
     "name": "stdout",
     "output_type": "stream",
     "text": [
      "rBergomi price: 22.31351157856819\n"
     ]
    }
   ],
   "source": [
    "model = MCPricer(rBergomiMC)\n",
    "price, _ = model.price(opt_timetable, dataset)\n",
    "print(f\"rBergomi price: {price}\")"
   ]
  }
 ],
 "metadata": {
  "kernelspec": {
   "display_name": ".venv",
   "language": "python",
   "name": "python3"
  },
  "language_info": {
   "codemirror_mode": {
    "name": "ipython",
    "version": 3
   },
   "file_extension": ".py",
   "mimetype": "text/x-python",
   "name": "python",
   "nbconvert_exporter": "python",
   "pygments_lexer": "ipython3",
   "version": "3.11.9"
  }
 },
 "nbformat": 4,
 "nbformat_minor": 2
}
