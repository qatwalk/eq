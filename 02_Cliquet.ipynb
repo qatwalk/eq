{
 "cells": [
  {
   "cell_type": "markdown",
   "metadata": {},
   "source": [
    "# Cliquet\n",
    "Price a Cliquet using different models. Cliquets are frequently used as hedges for annuities with caps and floors.\n",
    "For a definition of the payoff, and the dataclass to construct a cliquet timetable, see [qablet_contracts.eq.cliquet.Accumulator](https://qablet.github.io/qablet-contracts/examples/equity_cliquet)"
   ]
  },
  {
   "cell_type": "code",
   "execution_count": 1,
   "metadata": {},
   "outputs": [],
   "source": [
    "import pandas as pd\n",
    "from finmc.models.heston import HestonMC\n",
    "from qablet.base.mc import MCPricer\n",
    "from qablet_contracts.eq.cliquet import Accumulator\n",
    "\n",
    "from data.spx_2005_09_15 import basic_info, dataset\n",
    "from src.model.localvol import LVMC\n",
    "from src.model.rbergomi import rBergomiMC"
   ]
  },
  {
   "cell_type": "markdown",
   "metadata": {},
   "source": [
    "### Contract\n",
    "Create a Cliquet Contract fixing bi-monthly."
   ]
  },
  {
   "cell_type": "code",
   "execution_count": 2,
   "metadata": {},
   "outputs": [
    {
     "name": "stdout",
     "output_type": "stream",
     "text": [
      "                       time   op  quantity    unit track\n",
      "0 2005-09-30 00:00:00+00:00  NaN       0.0   start   NaN\n",
      "1 2005-11-30 00:00:00+00:00  NaN       0.0  addfix   NaN\n",
      "2 2006-01-31 00:00:00+00:00  NaN       0.0  addfix   NaN\n",
      "3 2006-03-31 00:00:00+00:00  NaN       0.0  addfix   NaN\n",
      "4 2006-05-31 00:00:00+00:00  NaN       0.0  addfix   NaN\n",
      "5 2006-07-31 00:00:00+00:00  NaN       0.0  addfix   NaN\n",
      "6 2006-07-31 00:00:00+00:00    >       0.0     USD      \n",
      "7 2006-07-31 00:00:00+00:00    +     100.0     ACC      \n"
     ]
    }
   ],
   "source": [
    "prc_dt = basic_info[\"prc_dt\"]\n",
    "exp_dt = prc_dt + pd.DateOffset(years=1)\n",
    "\n",
    "fix_dates = pd.bdate_range(prc_dt, exp_dt, freq=\"2BME\")\n",
    "global_floor = 0.0\n",
    "local_floor = -0.03\n",
    "local_cap = 0.05\n",
    "timetable = Accumulator(\n",
    "    \"USD\",\n",
    "    \"SPX\",\n",
    "    fix_dates,\n",
    "    global_floor,\n",
    "    local_floor,\n",
    "    local_cap,\n",
    "    state={\"S_PREV\": 1.0},\n",
    ").timetable()\n",
    "\n",
    "print(timetable[\"events\"].to_pandas())"
   ]
  },
  {
   "cell_type": "markdown",
   "metadata": {},
   "source": [
    "### Compare Models\n",
    "Create the models."
   ]
  },
  {
   "cell_type": "code",
   "execution_count": 3,
   "metadata": {},
   "outputs": [],
   "source": [
    "models = {\n",
    "    \"Localvol\": MCPricer(LVMC),\n",
    "    \"Heston\": MCPricer(HestonMC),\n",
    "    \"rBergomi\": MCPricer(rBergomiMC),\n",
    "}"
   ]
  },
  {
   "cell_type": "markdown",
   "metadata": {},
   "source": [
    "Get Price and Execution times"
   ]
  },
  {
   "cell_type": "code",
   "execution_count": 4,
   "metadata": {},
   "outputs": [
    {
     "name": "stdout",
     "output_type": "stream",
     "text": [
      "Localvol   price:  8.363, time:   0.78\n",
      "Heston     price:  8.583, time:   0.34\n",
      "rBergomi   price:  8.955, time:   6.16\n"
     ]
    }
   ],
   "source": [
    "import time\n",
    "\n",
    "for model_name, model in models.items():\n",
    "    start_time = time.time()\n",
    "    price, _ = model.price(timetable, dataset)\n",
    "    end_time = time.time()\n",
    "    print(\n",
    "        f\"{model_name:10} price: {price:6.3f}, time: {end_time - start_time:6.2f}\"\n",
    "    )"
   ]
  },
  {
   "cell_type": "markdown",
   "metadata": {},
   "source": [
    "Create a series of cliques with different global floors."
   ]
  },
  {
   "cell_type": "code",
   "execution_count": 5,
   "metadata": {},
   "outputs": [],
   "source": [
    "timetables = []\n",
    "notional = 100\n",
    "global_floors = [gf * notional for gf in [-0.02, 0.0, 0.02, 0.04]]\n",
    "for global_floor in global_floors:\n",
    "    timetable = Accumulator(\n",
    "        \"USD\",\n",
    "        \"SPX\",\n",
    "        fix_dates,\n",
    "        global_floor,\n",
    "        local_floor,\n",
    "        local_cap,\n",
    "        notional=notional,\n",
    "        state={\"S_PREV\": 1.0},\n",
    "    ).timetable()\n",
    "    timetables.append(timetable)"
   ]
  },
  {
   "cell_type": "markdown",
   "metadata": {},
   "source": [
    "Run this series through each model."
   ]
  },
  {
   "cell_type": "code",
   "execution_count": 6,
   "metadata": {},
   "outputs": [
    {
     "name": "stdout",
     "output_type": "stream",
     "text": [
      "Localvol done\n",
      "   global floor  Localvol\n",
      "0          -2.0  8.231006\n",
      "1           0.0  8.363116\n",
      "2           2.0  8.600573\n",
      "3           4.0  8.995561\n",
      "Heston done\n",
      "   global floor  Localvol    Heston\n",
      "0          -2.0  8.231006  8.473099\n",
      "1           0.0  8.363116  8.582766\n",
      "2           2.0  8.600573  8.784274\n",
      "3           4.0  8.995561  9.121477\n",
      "rBergomi done\n",
      "   global floor  Localvol    Heston  rBergomi\n",
      "0          -2.0  8.231006  8.473099  8.867586\n",
      "1           0.0  8.363116  8.582766  8.954715\n",
      "2           2.0  8.600573  8.784274  9.122660\n",
      "3           4.0  8.995561  9.121477  9.413786\n"
     ]
    }
   ],
   "source": [
    "df = pd.DataFrame({\"global floor\": global_floors})\n",
    "for model_name, model in models.items():\n",
    "    df[model_name] = [\n",
    "        model.price(timetable, dataset)[0] for timetable in timetables\n",
    "    ]\n",
    "    print(f\"{model_name} done\")\n",
    "    print(df)"
   ]
  },
  {
   "cell_type": "markdown",
   "metadata": {},
   "source": [
    "## Plot"
   ]
  },
  {
   "cell_type": "code",
   "execution_count": 7,
   "metadata": {},
   "outputs": [
    {
     "data": {
      "text/plain": [
       "<Axes: title={'center': 'Cliquet'}, xlabel='global floor'>"
      ]
     },
     "execution_count": 7,
     "metadata": {},
     "output_type": "execute_result"
    },
    {
     "data": {
      "image/png": "[encoded data removed]",
      "text/plain": [
       "<Figure size 640x480 with 1 Axes>"
      ]
     },
     "metadata": {},
     "output_type": "display_data"
    }
   ],
   "source": [
    "df.columns\n",
    "df.plot(\n",
    "    x=\"global floor\",\n",
    "    y=models.keys(),\n",
    "    marker=\"o\",\n",
    "    title=\"Cliquet\",\n",
    ")"
   ]
  }
 ],
 "metadata": {
  "kernelspec": {
   "display_name": ".venv",
   "language": "python",
   "name": "python3"
  },
  "language_info": {
   "codemirror_mode": {
    "name": "ipython",
    "version": 3
   },
   "file_extension": ".py",
   "mimetype": "text/x-python",
   "name": "python",
   "nbconvert_exporter": "python",
   "pygments_lexer": "ipython3",
   "version": "3.11.9"
  }
 },
 "nbformat": 4,
 "nbformat_minor": 2
}
