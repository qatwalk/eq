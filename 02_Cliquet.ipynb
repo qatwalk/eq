{
 "cells": [
  {
   "cell_type": "markdown",
   "metadata": {},
   "source": [
    "# Cliquet\n",
    "Price a Cliquet using different models. Cliquets are frequently used as hedges for annuities with caps and floors.\n",
    "For a definition of the payoff, and the dataclass to construct a cliquet timetable, see [qablet_contracts.eq.cliquet.Accumulator](https://qablet.github.io/qablet-contracts/examples/equity_cliquet)"
   ]
  },
  {
   "cell_type": "code",
   "execution_count": 1,
   "metadata": {},
   "outputs": [],
   "source": [
    "import pandas as pd\n",
    "from finmc.models.heston import HestonMC\n",
    "from qablet.base.mc import MCPricer\n",
    "from qablet_contracts.eq.cliquet import Accumulator\n",
    "\n",
    "from data.spx_2005_09_15 import (\n",
    "    basic_info,\n",
    "    heston_data,\n",
    "    localvol_data,\n",
    "    rbergomi_data,\n",
    ")\n",
    "from src.model.localvol import LVMC\n",
    "from src.model.rbergomi import rBergomiMC"
   ]
  },
  {
   "cell_type": "markdown",
   "metadata": {},
   "source": [
    "### Contract\n",
    "Create a Cliquet Contract fixing bi-monthly."
   ]
  },
  {
   "cell_type": "code",
   "execution_count": 2,
   "metadata": {},
   "outputs": [
    {
     "name": "stdout",
     "output_type": "stream",
     "text": [
      "                       time   op  quantity    unit track\n",
      "0 2005-09-30 00:00:00+00:00  NaN       0.0   start   NaN\n",
      "1 2005-11-30 00:00:00+00:00  NaN       0.0  addfix   NaN\n",
      "2 2006-01-31 00:00:00+00:00  NaN       0.0  addfix   NaN\n",
      "3 2006-03-31 00:00:00+00:00  NaN       0.0  addfix   NaN\n",
      "4 2006-05-31 00:00:00+00:00  NaN       0.0  addfix   NaN\n",
      "5 2006-07-31 00:00:00+00:00  NaN       0.0  addfix   NaN\n",
      "6 2006-07-31 00:00:00+00:00    >       0.0     USD      \n",
      "7 2006-07-31 00:00:00+00:00    +     100.0     ACC      \n"
     ]
    }
   ],
   "source": [
    "info = basic_info()\n",
    "prc_dt = info[\"prc_dt\"]\n",
    "exp_dt = prc_dt + pd.DateOffset(years=1)\n",
    "\n",
    "fix_dates = pd.bdate_range(prc_dt, exp_dt, freq=\"2BME\")\n",
    "global_floor = 0.0\n",
    "local_floor = -0.03\n",
    "local_cap = 0.05\n",
    "timetable = Accumulator(\n",
    "    \"USD\",\n",
    "    \"SPX\",\n",
    "    fix_dates,\n",
    "    global_floor,\n",
    "    local_floor,\n",
    "    local_cap,\n",
    "    state={\"S_PREV\": 1.0},\n",
    ").timetable()\n",
    "\n",
    "print(timetable[\"events\"].to_pandas())"
   ]
  },
  {
   "cell_type": "markdown",
   "metadata": {},
   "source": [
    "### Compare Models\n",
    "Compare different models, starting with Local Volatility Model."
   ]
  },
  {
   "cell_type": "code",
   "execution_count": 3,
   "metadata": {},
   "outputs": [
    {
     "name": "stdout",
     "output_type": "stream",
     "text": [
      "Localvol price: 8.362579783522644\n"
     ]
    }
   ],
   "source": [
    "model = MCPricer(LVMC)\n",
    "price, _ = model.price(timetable, localvol_data())\n",
    "print(f\"Localvol price: {price}\")"
   ]
  },
  {
   "cell_type": "markdown",
   "metadata": {},
   "source": [
    "Heston Model"
   ]
  },
  {
   "cell_type": "code",
   "execution_count": 4,
   "metadata": {},
   "outputs": [
    {
     "name": "stdout",
     "output_type": "stream",
     "text": [
      "Heston price: 8.582766050939771\n"
     ]
    }
   ],
   "source": [
    "model = MCPricer(HestonMC)\n",
    "price, _ = model.price(timetable, heston_data())\n",
    "print(f\"Heston price: {price}\")"
   ]
  },
  {
   "cell_type": "markdown",
   "metadata": {},
   "source": [
    "Bergomi Model"
   ]
  },
  {
   "cell_type": "code",
   "execution_count": 5,
   "metadata": {},
   "outputs": [
    {
     "name": "stdout",
     "output_type": "stream",
     "text": [
      "rBergomi price: 9.026120269810775\n"
     ]
    }
   ],
   "source": [
    "model = MCPricer(rBergomiMC)\n",
    "dataset = rbergomi_data()\n",
    "dataset[\"MC\"][\"PATHS\"] = 20_000  # very slow with 100_000, 1/250\n",
    "price, _ = model.price(timetable, dataset)\n",
    "print(f\"rBergomi price: {price}\")"
   ]
  },
  {
   "cell_type": "markdown",
   "metadata": {},
   "source": [
    "Create a series of cliques with different global floors."
   ]
  },
  {
   "cell_type": "code",
   "execution_count": 6,
   "metadata": {},
   "outputs": [],
   "source": [
    "timetables = []\n",
    "notional = 100\n",
    "global_floors = [gf * notional for gf in [-0.02, 0.0, 0.02, 0.04]]\n",
    "for global_floor in global_floors:\n",
    "    timetable = Accumulator(\n",
    "        \"USD\",\n",
    "        \"SPX\",\n",
    "        fix_dates,\n",
    "        global_floor,\n",
    "        local_floor,\n",
    "        local_cap,\n",
    "        notional=notional,\n",
    "        state={\"S_PREV\": 1.0},\n",
    "    ).timetable()\n",
    "    timetables.append(timetable)\n",
    "df = pd.DataFrame({\"global floor\": global_floors})"
   ]
  },
  {
   "cell_type": "code",
   "execution_count": 7,
   "metadata": {},
   "outputs": [
    {
     "data": {
      "text/html": [
       "<div>\n",
       "<style scoped>\n",
       "    .dataframe tbody tr th:only-of-type {\n",
       "        vertical-align: middle;\n",
       "    }\n",
       "\n",
       "    .dataframe tbody tr th {\n",
       "        vertical-align: top;\n",
       "    }\n",
       "\n",
       "    .dataframe thead th {\n",
       "        text-align: right;\n",
       "    }\n",
       "</style>\n",
       "<table border=\"1\" class=\"dataframe\">\n",
       "  <thead>\n",
       "    <tr style=\"text-align: right;\">\n",
       "      <th></th>\n",
       "      <th>global floor</th>\n",
       "      <th>LocalVol</th>\n",
       "    </tr>\n",
       "  </thead>\n",
       "  <tbody>\n",
       "    <tr>\n",
       "      <th>0</th>\n",
       "      <td>-2.0</td>\n",
       "      <td>8.195597</td>\n",
       "    </tr>\n",
       "    <tr>\n",
       "      <th>1</th>\n",
       "      <td>0.0</td>\n",
       "      <td>8.326067</td>\n",
       "    </tr>\n",
       "    <tr>\n",
       "      <th>2</th>\n",
       "      <td>2.0</td>\n",
       "      <td>8.563759</td>\n",
       "    </tr>\n",
       "    <tr>\n",
       "      <th>3</th>\n",
       "      <td>4.0</td>\n",
       "      <td>8.960705</td>\n",
       "    </tr>\n",
       "  </tbody>\n",
       "</table>\n",
       "</div>"
      ],
      "text/plain": [
       "   global floor  LocalVol\n",
       "0          -2.0  8.195597\n",
       "1           0.0  8.326067\n",
       "2           2.0  8.563759\n",
       "3           4.0  8.960705"
      ]
     },
     "execution_count": 7,
     "metadata": {},
     "output_type": "execute_result"
    }
   ],
   "source": [
    "model = MCPricer(LVMC)\n",
    "\n",
    "prices = []\n",
    "for timetable in timetables:\n",
    "    price, _ = model.price(timetable, localvol_data())\n",
    "    prices.append(price)\n",
    "\n",
    "df[\"LocalVol\"] = prices\n",
    "df"
   ]
  },
  {
   "cell_type": "code",
   "execution_count": 8,
   "metadata": {},
   "outputs": [
    {
     "data": {
      "text/html": [
       "<div>\n",
       "<style scoped>\n",
       "    .dataframe tbody tr th:only-of-type {\n",
       "        vertical-align: middle;\n",
       "    }\n",
       "\n",
       "    .dataframe tbody tr th {\n",
       "        vertical-align: top;\n",
       "    }\n",
       "\n",
       "    .dataframe thead th {\n",
       "        text-align: right;\n",
       "    }\n",
       "</style>\n",
       "<table border=\"1\" class=\"dataframe\">\n",
       "  <thead>\n",
       "    <tr style=\"text-align: right;\">\n",
       "      <th></th>\n",
       "      <th>global floor</th>\n",
       "      <th>LocalVol</th>\n",
       "      <th>Heston</th>\n",
       "    </tr>\n",
       "  </thead>\n",
       "  <tbody>\n",
       "    <tr>\n",
       "      <th>0</th>\n",
       "      <td>-2.0</td>\n",
       "      <td>8.195597</td>\n",
       "      <td>8.467444</td>\n",
       "    </tr>\n",
       "    <tr>\n",
       "      <th>1</th>\n",
       "      <td>0.0</td>\n",
       "      <td>8.326067</td>\n",
       "      <td>8.573989</td>\n",
       "    </tr>\n",
       "    <tr>\n",
       "      <th>2</th>\n",
       "      <td>2.0</td>\n",
       "      <td>8.563759</td>\n",
       "      <td>8.777049</td>\n",
       "    </tr>\n",
       "    <tr>\n",
       "      <th>3</th>\n",
       "      <td>4.0</td>\n",
       "      <td>8.960705</td>\n",
       "      <td>9.117914</td>\n",
       "    </tr>\n",
       "  </tbody>\n",
       "</table>\n",
       "</div>"
      ],
      "text/plain": [
       "   global floor  LocalVol    Heston\n",
       "0          -2.0  8.195597  8.467444\n",
       "1           0.0  8.326067  8.573989\n",
       "2           2.0  8.563759  8.777049\n",
       "3           4.0  8.960705  9.117914"
      ]
     },
     "execution_count": 8,
     "metadata": {},
     "output_type": "execute_result"
    }
   ],
   "source": [
    "model = MCPricer(HestonMC)\n",
    "\n",
    "prices = []\n",
    "for timetable in timetables:\n",
    "    price, _ = model.price(timetable, heston_data())\n",
    "    prices.append(price)\n",
    "df[\"Heston\"] = prices\n",
    "df"
   ]
  },
  {
   "cell_type": "code",
   "execution_count": 9,
   "metadata": {},
   "outputs": [
    {
     "data": {
      "text/html": [
       "<div>\n",
       "<style scoped>\n",
       "    .dataframe tbody tr th:only-of-type {\n",
       "        vertical-align: middle;\n",
       "    }\n",
       "\n",
       "    .dataframe tbody tr th {\n",
       "        vertical-align: top;\n",
       "    }\n",
       "\n",
       "    .dataframe thead th {\n",
       "        text-align: right;\n",
       "    }\n",
       "</style>\n",
       "<table border=\"1\" class=\"dataframe\">\n",
       "  <thead>\n",
       "    <tr style=\"text-align: right;\">\n",
       "      <th></th>\n",
       "      <th>global floor</th>\n",
       "      <th>LocalVol</th>\n",
       "      <th>Heston</th>\n",
       "      <th>rBergomi</th>\n",
       "    </tr>\n",
       "  </thead>\n",
       "  <tbody>\n",
       "    <tr>\n",
       "      <th>0</th>\n",
       "      <td>-2.0</td>\n",
       "      <td>8.195597</td>\n",
       "      <td>8.467444</td>\n",
       "      <td>8.885596</td>\n",
       "    </tr>\n",
       "    <tr>\n",
       "      <th>1</th>\n",
       "      <td>0.0</td>\n",
       "      <td>8.326067</td>\n",
       "      <td>8.573989</td>\n",
       "      <td>8.973939</td>\n",
       "    </tr>\n",
       "    <tr>\n",
       "      <th>2</th>\n",
       "      <td>2.0</td>\n",
       "      <td>8.563759</td>\n",
       "      <td>8.777049</td>\n",
       "      <td>9.140951</td>\n",
       "    </tr>\n",
       "    <tr>\n",
       "      <th>3</th>\n",
       "      <td>4.0</td>\n",
       "      <td>8.960705</td>\n",
       "      <td>9.117914</td>\n",
       "      <td>9.431628</td>\n",
       "    </tr>\n",
       "  </tbody>\n",
       "</table>\n",
       "</div>"
      ],
      "text/plain": [
       "   global floor  LocalVol    Heston  rBergomi\n",
       "0          -2.0  8.195597  8.467444  8.885596\n",
       "1           0.0  8.326067  8.573989  8.973939\n",
       "2           2.0  8.563759  8.777049  9.140951\n",
       "3           4.0  8.960705  9.117914  9.431628"
      ]
     },
     "execution_count": 9,
     "metadata": {},
     "output_type": "execute_result"
    }
   ],
   "source": [
    "model = MCPricer(rBergomiMC)\n",
    "dataset = rbergomi_data()\n",
    "dataset[\"MC\"][\"PATHS\"] = 50_000  # very slow with 100_000, 1/250\n",
    "\n",
    "prices = []\n",
    "for timetable in timetables:\n",
    "    price, _ = model.price(timetable, dataset)\n",
    "    prices.append(price)\n",
    "df[\"rBergomi\"] = prices\n",
    "df"
   ]
  },
  {
   "cell_type": "markdown",
   "metadata": {},
   "source": [
    "## Plot"
   ]
  },
  {
   "cell_type": "code",
   "execution_count": 10,
   "metadata": {},
   "outputs": [
    {
     "data": {
      "text/plain": [
       "<Axes: title={'center': 'Cliquet Prices'}, xlabel='global floor'>"
      ]
     },
     "execution_count": 10,
     "metadata": {},
     "output_type": "execute_result"
    },
    {
     "data": {
      "image/png": "[encoded data removed]",
      "text/plain": [
       "<Figure size 640x480 with 1 Axes>"
      ]
     },
     "metadata": {},
     "output_type": "display_data"
    }
   ],
   "source": [
    "df.columns\n",
    "df.plot(\n",
    "    x=\"global floor\",\n",
    "    y=[\"LocalVol\", \"Heston\", \"rBergomi\"],\n",
    "    marker=\"o\",\n",
    "    title=\"Cliquet Prices\",\n",
    ")"
   ]
  }
 ],
 "metadata": {
  "kernelspec": {
   "display_name": ".venv",
   "language": "python",
   "name": "python3"
  },
  "language_info": {
   "codemirror_mode": {
    "name": "ipython",
    "version": 3
   },
   "file_extension": ".py",
   "mimetype": "text/x-python",
   "name": "python",
   "nbconvert_exporter": "python",
   "pygments_lexer": "ipython3",
   "version": "3.11.9"
  }
 },
 "nbformat": 4,
 "nbformat_minor": 2
}
