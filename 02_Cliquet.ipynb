{
 "cells": [
  {
   "cell_type": "markdown",
   "metadata": {},
   "source": [
    "# Cliquet\n",
    "Price a Cliquet using different models. Cliquets are frequently used as hedges for annuities with caps and floors.\n",
    "For a definition of the payoff, and the dataclass to construct a cliquet timetable, see [qablet_contracts.eq.cliquet.Accumulator](https://qablet.github.io/qablet-contracts/examples/equity_cliquet)"
   ]
  },
  {
   "cell_type": "code",
   "execution_count": 1,
   "metadata": {},
   "outputs": [],
   "source": [
    "import pandas as pd\n",
    "from finmc.models.heston import HestonMC\n",
    "from qablet.base.mc import MCPricer\n",
    "from qablet_contracts.eq.cliquet import Accumulator\n",
    "\n",
    "from data.spx_2005_09_15 import basic_info, dataset\n",
    "from src.model.localvol import LVMC\n",
    "from src.model.rbergomi import rBergomiMC"
   ]
  },
  {
   "cell_type": "markdown",
   "metadata": {},
   "source": [
    "### Contract\n",
    "Create a Cliquet Contract fixing bi-monthly."
   ]
  },
  {
   "cell_type": "code",
   "execution_count": 2,
   "metadata": {},
   "outputs": [
    {
     "name": "stdout",
     "output_type": "stream",
     "text": [
      "                       time   op  quantity    unit track\n",
      "0 2005-09-30 00:00:00+00:00  NaN       0.0   start   NaN\n",
      "1 2005-11-30 00:00:00+00:00  NaN       0.0  addfix   NaN\n",
      "2 2006-01-31 00:00:00+00:00  NaN       0.0  addfix   NaN\n",
      "3 2006-03-31 00:00:00+00:00  NaN       0.0  addfix   NaN\n",
      "4 2006-05-31 00:00:00+00:00  NaN       0.0  addfix   NaN\n",
      "5 2006-07-31 00:00:00+00:00  NaN       0.0  addfix   NaN\n",
      "6 2006-07-31 00:00:00+00:00    >       0.0     USD      \n",
      "7 2006-07-31 00:00:00+00:00    +     100.0     ACC      \n"
     ]
    }
   ],
   "source": [
    "prc_dt = basic_info[\"prc_dt\"]\n",
    "exp_dt = prc_dt + pd.DateOffset(years=1)\n",
    "\n",
    "fix_dates = pd.bdate_range(prc_dt, exp_dt, freq=\"2BME\")\n",
    "global_floor = 0.0\n",
    "local_floor = -0.03\n",
    "local_cap = 0.05\n",
    "timetable = Accumulator(\n",
    "    \"USD\",\n",
    "    \"SPX\",\n",
    "    fix_dates,\n",
    "    global_floor,\n",
    "    local_floor,\n",
    "    local_cap,\n",
    "    state={\"S_PREV\": 1.0},\n",
    ").timetable()\n",
    "\n",
    "print(timetable[\"events\"].to_pandas())"
   ]
  },
  {
   "cell_type": "markdown",
   "metadata": {},
   "source": [
    "### Compare Models\n",
    "Compare different models, starting with Local Volatility Model."
   ]
  },
  {
   "cell_type": "code",
   "execution_count": 3,
   "metadata": {},
   "outputs": [
    {
     "name": "stdout",
     "output_type": "stream",
     "text": [
      "Localvol price: 8.362579783522644\n"
     ]
    }
   ],
   "source": [
    "model = MCPricer(LVMC)\n",
    "price, _ = model.price(timetable, dataset)\n",
    "print(f\"Localvol price: {price}\")"
   ]
  },
  {
   "cell_type": "markdown",
   "metadata": {},
   "source": [
    "Heston Model"
   ]
  },
  {
   "cell_type": "code",
   "execution_count": 4,
   "metadata": {},
   "outputs": [
    {
     "name": "stdout",
     "output_type": "stream",
     "text": [
      "Heston price: 8.582766050939771\n"
     ]
    }
   ],
   "source": [
    "model = MCPricer(HestonMC)\n",
    "price, _ = model.price(timetable, dataset)\n",
    "print(f\"Heston price: {price}\")"
   ]
  },
  {
   "cell_type": "markdown",
   "metadata": {},
   "source": [
    "Bergomi Model"
   ]
  },
  {
   "cell_type": "code",
   "execution_count": 5,
   "metadata": {},
   "outputs": [
    {
     "name": "stdout",
     "output_type": "stream",
     "text": [
      "rBergomi price: 8.954715386335545\n"
     ]
    }
   ],
   "source": [
    "model = MCPricer(rBergomiMC)\n",
    "price, _ = model.price(timetable, dataset)\n",
    "print(f\"rBergomi price: {price}\")"
   ]
  },
  {
   "cell_type": "markdown",
   "metadata": {},
   "source": [
    "Create a series of cliques with different global floors."
   ]
  },
  {
   "cell_type": "code",
   "execution_count": 6,
   "metadata": {},
   "outputs": [],
   "source": [
    "timetables = []\n",
    "notional = 100\n",
    "global_floors = [gf * notional for gf in [-0.02, 0.0, 0.02, 0.04]]\n",
    "for global_floor in global_floors:\n",
    "    timetable = Accumulator(\n",
    "        \"USD\",\n",
    "        \"SPX\",\n",
    "        fix_dates,\n",
    "        global_floor,\n",
    "        local_floor,\n",
    "        local_cap,\n",
    "        notional=notional,\n",
    "        state={\"S_PREV\": 1.0},\n",
    "    ).timetable()\n",
    "    timetables.append(timetable)\n",
    "df = pd.DataFrame({\"global floor\": global_floors})"
   ]
  },
  {
   "cell_type": "code",
   "execution_count": 7,
   "metadata": {},
   "outputs": [
    {
     "data": {
      "text/html": [
       "<div>\n",
       "<style scoped>\n",
       "    .dataframe tbody tr th:only-of-type {\n",
       "        vertical-align: middle;\n",
       "    }\n",
       "\n",
       "    .dataframe tbody tr th {\n",
       "        vertical-align: top;\n",
       "    }\n",
       "\n",
       "    .dataframe thead th {\n",
       "        text-align: right;\n",
       "    }\n",
       "</style>\n",
       "<table border=\"1\" class=\"dataframe\">\n",
       "  <thead>\n",
       "    <tr style=\"text-align: right;\">\n",
       "      <th></th>\n",
       "      <th>global floor</th>\n",
       "      <th>LocalVol</th>\n",
       "    </tr>\n",
       "  </thead>\n",
       "  <tbody>\n",
       "    <tr>\n",
       "      <th>0</th>\n",
       "      <td>-2.0</td>\n",
       "      <td>8.230479</td>\n",
       "    </tr>\n",
       "    <tr>\n",
       "      <th>1</th>\n",
       "      <td>0.0</td>\n",
       "      <td>8.362580</td>\n",
       "    </tr>\n",
       "    <tr>\n",
       "      <th>2</th>\n",
       "      <td>2.0</td>\n",
       "      <td>8.600019</td>\n",
       "    </tr>\n",
       "    <tr>\n",
       "      <th>3</th>\n",
       "      <td>4.0</td>\n",
       "      <td>8.994987</td>\n",
       "    </tr>\n",
       "  </tbody>\n",
       "</table>\n",
       "</div>"
      ],
      "text/plain": [
       "   global floor  LocalVol\n",
       "0          -2.0  8.230479\n",
       "1           0.0  8.362580\n",
       "2           2.0  8.600019\n",
       "3           4.0  8.994987"
      ]
     },
     "execution_count": 7,
     "metadata": {},
     "output_type": "execute_result"
    }
   ],
   "source": [
    "model = MCPricer(LVMC)\n",
    "\n",
    "prices = []\n",
    "for timetable in timetables:\n",
    "    price, _ = model.price(timetable, dataset)\n",
    "    prices.append(price)\n",
    "\n",
    "df[\"LocalVol\"] = prices\n",
    "df"
   ]
  },
  {
   "cell_type": "code",
   "execution_count": 8,
   "metadata": {},
   "outputs": [
    {
     "data": {
      "text/html": [
       "<div>\n",
       "<style scoped>\n",
       "    .dataframe tbody tr th:only-of-type {\n",
       "        vertical-align: middle;\n",
       "    }\n",
       "\n",
       "    .dataframe tbody tr th {\n",
       "        vertical-align: top;\n",
       "    }\n",
       "\n",
       "    .dataframe thead th {\n",
       "        text-align: right;\n",
       "    }\n",
       "</style>\n",
       "<table border=\"1\" class=\"dataframe\">\n",
       "  <thead>\n",
       "    <tr style=\"text-align: right;\">\n",
       "      <th></th>\n",
       "      <th>global floor</th>\n",
       "      <th>LocalVol</th>\n",
       "      <th>Heston</th>\n",
       "    </tr>\n",
       "  </thead>\n",
       "  <tbody>\n",
       "    <tr>\n",
       "      <th>0</th>\n",
       "      <td>-2.0</td>\n",
       "      <td>8.230479</td>\n",
       "      <td>8.473099</td>\n",
       "    </tr>\n",
       "    <tr>\n",
       "      <th>1</th>\n",
       "      <td>0.0</td>\n",
       "      <td>8.362580</td>\n",
       "      <td>8.582766</td>\n",
       "    </tr>\n",
       "    <tr>\n",
       "      <th>2</th>\n",
       "      <td>2.0</td>\n",
       "      <td>8.600019</td>\n",
       "      <td>8.784274</td>\n",
       "    </tr>\n",
       "    <tr>\n",
       "      <th>3</th>\n",
       "      <td>4.0</td>\n",
       "      <td>8.994987</td>\n",
       "      <td>9.121477</td>\n",
       "    </tr>\n",
       "  </tbody>\n",
       "</table>\n",
       "</div>"
      ],
      "text/plain": [
       "   global floor  LocalVol    Heston\n",
       "0          -2.0  8.230479  8.473099\n",
       "1           0.0  8.362580  8.582766\n",
       "2           2.0  8.600019  8.784274\n",
       "3           4.0  8.994987  9.121477"
      ]
     },
     "execution_count": 8,
     "metadata": {},
     "output_type": "execute_result"
    }
   ],
   "source": [
    "model = MCPricer(HestonMC)\n",
    "\n",
    "prices = []\n",
    "for timetable in timetables:\n",
    "    price, _ = model.price(timetable, dataset)\n",
    "    prices.append(price)\n",
    "df[\"Heston\"] = prices\n",
    "df"
   ]
  },
  {
   "cell_type": "code",
   "execution_count": 9,
   "metadata": {},
   "outputs": [
    {
     "data": {
      "text/html": [
       "<div>\n",
       "<style scoped>\n",
       "    .dataframe tbody tr th:only-of-type {\n",
       "        vertical-align: middle;\n",
       "    }\n",
       "\n",
       "    .dataframe tbody tr th {\n",
       "        vertical-align: top;\n",
       "    }\n",
       "\n",
       "    .dataframe thead th {\n",
       "        text-align: right;\n",
       "    }\n",
       "</style>\n",
       "<table border=\"1\" class=\"dataframe\">\n",
       "  <thead>\n",
       "    <tr style=\"text-align: right;\">\n",
       "      <th></th>\n",
       "      <th>global floor</th>\n",
       "      <th>LocalVol</th>\n",
       "      <th>Heston</th>\n",
       "      <th>rBergomi</th>\n",
       "    </tr>\n",
       "  </thead>\n",
       "  <tbody>\n",
       "    <tr>\n",
       "      <th>0</th>\n",
       "      <td>-2.0</td>\n",
       "      <td>8.230479</td>\n",
       "      <td>8.473099</td>\n",
       "      <td>8.867586</td>\n",
       "    </tr>\n",
       "    <tr>\n",
       "      <th>1</th>\n",
       "      <td>0.0</td>\n",
       "      <td>8.362580</td>\n",
       "      <td>8.582766</td>\n",
       "      <td>8.954715</td>\n",
       "    </tr>\n",
       "    <tr>\n",
       "      <th>2</th>\n",
       "      <td>2.0</td>\n",
       "      <td>8.600019</td>\n",
       "      <td>8.784274</td>\n",
       "      <td>9.122660</td>\n",
       "    </tr>\n",
       "    <tr>\n",
       "      <th>3</th>\n",
       "      <td>4.0</td>\n",
       "      <td>8.994987</td>\n",
       "      <td>9.121477</td>\n",
       "      <td>9.413786</td>\n",
       "    </tr>\n",
       "  </tbody>\n",
       "</table>\n",
       "</div>"
      ],
      "text/plain": [
       "   global floor  LocalVol    Heston  rBergomi\n",
       "0          -2.0  8.230479  8.473099  8.867586\n",
       "1           0.0  8.362580  8.582766  8.954715\n",
       "2           2.0  8.600019  8.784274  9.122660\n",
       "3           4.0  8.994987  9.121477  9.413786"
      ]
     },
     "execution_count": 9,
     "metadata": {},
     "output_type": "execute_result"
    }
   ],
   "source": [
    "model = MCPricer(rBergomiMC)\n",
    "\n",
    "prices = []\n",
    "for timetable in timetables:\n",
    "    price, _ = model.price(timetable, dataset)\n",
    "    prices.append(price)\n",
    "df[\"rBergomi\"] = prices\n",
    "df"
   ]
  },
  {
   "cell_type": "markdown",
   "metadata": {},
   "source": [
    "## Plot"
   ]
  },
  {
   "cell_type": "code",
   "execution_count": 10,
   "metadata": {},
   "outputs": [
    {
     "data": {
      "text/plain": [
       "<Axes: title={'center': 'Cliquet Prices'}, xlabel='global floor'>"
      ]
     },
     "execution_count": 10,
     "metadata": {},
     "output_type": "execute_result"
    },
    {
     "data": {
      "image/png": "[encoded data removed]",
      "text/plain": [
       "<Figure size 640x480 with 1 Axes>"
      ]
     },
     "metadata": {},
     "output_type": "display_data"
    }
   ],
   "source": [
    "df.columns\n",
    "df.plot(\n",
    "    x=\"global floor\",\n",
    "    y=[\"LocalVol\", \"Heston\", \"rBergomi\"],\n",
    "    marker=\"o\",\n",
    "    title=\"Cliquet Prices\",\n",
    ")"
   ]
  }
 ],
 "metadata": {
  "kernelspec": {
   "display_name": ".venv",
   "language": "python",
   "name": "python3"
  },
  "language_info": {
   "codemirror_mode": {
    "name": "ipython",
    "version": 3
   },
   "file_extension": ".py",
   "mimetype": "text/x-python",
   "name": "python",
   "nbconvert_exporter": "python",
   "pygments_lexer": "ipython3",
   "version": "3.11.9"
  }
 },
 "nbformat": 4,
 "nbformat_minor": 2
}
