{
 "cells": [
  {
   "cell_type": "markdown",
   "metadata": {},
   "source": [
    "# Lookback Put Options (with different Pricing Models)"
   ]
  },
  {
   "cell_type": "markdown",
   "metadata": {},
   "source": [
    "Price a Lookback option using different models. Lookback options are valuable hedging tools for financial instruments that require the ability to capitalize on the best market prices over a specific period.  For a definition of the payoff, and the dataclass to construct a lookback put option timetable, see [lookback.py](./src/contracts/lookback.py)"
   ]
  },
  {
   "cell_type": "code",
   "execution_count": 1,
   "metadata": {},
   "outputs": [],
   "source": [
    "from qablet.heston.mc import HestonMCModel\n",
    "\n",
    "from data.spx_2005_09_15 import (\n",
    "    basic_info,\n",
    "    heston_data,\n",
    "    localvol_data,\n",
    "    rbergomi_data,\n",
    ")\n",
    "from src.contracts.lookback import lookback_put_timetable\n",
    "from src.model.localvol import LVMCModel\n",
    "from src.model.rbergomi import rBergomiMCModel"
   ]
  },
  {
   "cell_type": "markdown",
   "metadata": {},
   "source": [
    "Contract:\n",
    "\n",
    "Create a Lookback put option contract fixing time to maturity,T=0.2 with num of monitoring points,m=4"
   ]
  },
  {
   "cell_type": "code",
   "execution_count": 2,
   "metadata": {},
   "outputs": [
    {
     "name": "stdout",
     "output_type": "stream",
     "text": [
      "                       time   op  quantity      unit track\n",
      "0 2005-09-14 00:00:00+00:00  NaN       0.0      INIT      \n",
      "1 2005-10-02 06:18:00+00:00  NaN       0.0    UPDATE      \n",
      "2 2005-10-20 12:36:00+00:00  NaN       0.0    UPDATE      \n",
      "3 2005-11-07 18:54:00+00:00  NaN       0.0    UPDATE      \n",
      "4 2005-11-26 01:12:00+00:00    +       1.0  LOOKBACK      \n"
     ]
    }
   ],
   "source": [
    "info = basic_info()\n",
    "prc_dt = info[\"prc_dt\"]\n",
    "ticker = info[\"ticker\"]\n",
    "\n",
    "start_date = prc_dt\n",
    "T = 0.2\n",
    "num_points = 4\n",
    "\n",
    "timetable = lookback_put_timetable(ticker, start_date, T, num_points)\n",
    "print(timetable[\"events\"].to_pandas())"
   ]
  },
  {
   "cell_type": "markdown",
   "metadata": {},
   "source": [
    "Compare Models:\n",
    "\n",
    "Compare different models, starting with Local Volatility Model."
   ]
  },
  {
   "cell_type": "code",
   "execution_count": 3,
   "metadata": {},
   "outputs": [
    {
     "name": "stdout",
     "output_type": "stream",
     "text": [
      "Localvol price: 34.03527948049825\n"
     ]
    }
   ],
   "source": [
    "model = LVMCModel()\n",
    "price, _ = model.price(timetable, localvol_data())\n",
    "print(f\"Localvol price: {price}\")"
   ]
  },
  {
   "cell_type": "markdown",
   "metadata": {},
   "source": [
    "Heston Model:"
   ]
  },
  {
   "cell_type": "code",
   "execution_count": 4,
   "metadata": {},
   "outputs": [
    {
     "name": "stdout",
     "output_type": "stream",
     "text": [
      "Heston price: 35.153204400514184\n"
     ]
    }
   ],
   "source": [
    "model = HestonMCModel()\n",
    "price, _ = model.price(timetable, heston_data())\n",
    "print(f\"Heston price: {price}\")"
   ]
  },
  {
   "cell_type": "markdown",
   "metadata": {},
   "source": [
    "Bergomi Model:"
   ]
  },
  {
   "cell_type": "code",
   "execution_count": 5,
   "metadata": {},
   "outputs": [
    {
     "name": "stdout",
     "output_type": "stream",
     "text": [
      "rBergomi price: 134.37681693394038\n"
     ]
    }
   ],
   "source": [
    "model = rBergomiMCModel()\n",
    "dataset = rbergomi_data()\n",
    "dataset[\"MC\"][\"PATHS\"] = 100_000  # very slow with 100_000, 1/250\n",
    "dataset[\"MC\"][\"TIMESTEP\"] = 1 / 100\n",
    "price, _ = model.price(timetable, dataset)\n",
    "print(f\"rBergomi price: {price}\")"
   ]
  },
  {
   "cell_type": "markdown",
   "metadata": {},
   "source": [
    "Contract:\n",
    "\n",
    "Create a Lookback put option contract fixing time to maturity,T=0.5 with num of monitoring points,m=[5,10,20,50,100]"
   ]
  },
  {
   "cell_type": "markdown",
   "metadata": {},
   "source": [
    "Local Vol:"
   ]
  },
  {
   "cell_type": "code",
   "execution_count": 6,
   "metadata": {},
   "outputs": [
    {
     "name": "stdout",
     "output_type": "stream",
     "text": [
      "LocalVol price with 5 monitoring points: 58.960451961158796\n",
      "LocalVol price with 10 monitoring points: 64.73760939337866\n",
      "LocalVol price with 20 monitoring points: 69.05550778317841\n",
      "LocalVol price with 50 monitoring points: 73.19379170581013\n",
      "LocalVol price with 100 monitoring points: 75.68009294549402\n"
     ]
    }
   ],
   "source": [
    "ticker = \"SPX\"\n",
    "start_date = prc_dt\n",
    "T = 0.5\n",
    "\n",
    "# List of various monitoring points to analyze\n",
    "monitoring_points_list = [5, 10, 20, 50, 100]\n",
    "model = LVMCModel()\n",
    "lv_data = localvol_data()\n",
    "# Dictionary to store prices for different monitoring points\n",
    "prices = {}\n",
    "\n",
    "# Calculate prices for different numbers of monitoring points\n",
    "for num_points in monitoring_points_list:\n",
    "    timetable = lookback_put_timetable(ticker, start_date, T, num_points)\n",
    "    price, _ = model.price(timetable, lv_data)\n",
    "    prices[num_points] = price\n",
    "    print(f\"LocalVol price with {num_points} monitoring points: {price}\")"
   ]
  },
  {
   "cell_type": "markdown",
   "metadata": {},
   "source": [
    "Heston Model:"
   ]
  },
  {
   "cell_type": "code",
   "execution_count": 7,
   "metadata": {},
   "outputs": [
    {
     "name": "stdout",
     "output_type": "stream",
     "text": [
      "LocalVol price with 5 monitoring points: 56.26101578981621\n",
      "LocalVol price with 10 monitoring points: 60.68500416033413\n",
      "LocalVol price with 20 monitoring points: 64.04446914964821\n",
      "LocalVol price with 50 monitoring points: 67.25761828932377\n",
      "LocalVol price with 100 monitoring points: 69.35216493175507\n"
     ]
    }
   ],
   "source": [
    "ticker = \"SPX\"\n",
    "start_date = prc_dt\n",
    "T = 0.5\n",
    "\n",
    "# List of various monitoring points to analyze\n",
    "monitoring_points_list = [5, 10, 20, 50, 100]\n",
    "model = HestonMCModel()\n",
    "hs_data = heston_data()\n",
    "# Dictionary to store prices for different monitoring points\n",
    "prices = {}\n",
    "\n",
    "# Calculate prices for different numbers of monitoring points\n",
    "for num_points in monitoring_points_list:\n",
    "    timetable = lookback_put_timetable(ticker, start_date, T, num_points)\n",
    "    price, _ = model.price(timetable, hs_data)\n",
    "    prices[num_points] = price\n",
    "    print(f\"LocalVol price with {num_points} monitoring points: {price}\")"
   ]
  },
  {
   "cell_type": "markdown",
   "metadata": {},
   "source": [
    "rbergomi Model:"
   ]
  },
  {
   "cell_type": "code",
   "execution_count": 8,
   "metadata": {},
   "outputs": [
    {
     "name": "stdout",
     "output_type": "stream",
     "text": [
      "LocalVol price with 5 monitoring points: 93.33586816227653\n",
      "LocalVol price with 10 monitoring points: 385.20046388074513\n",
      "LocalVol price with 20 monitoring points: 302.54158000217706\n",
      "LocalVol price with 50 monitoring points: 1831.9457653675563\n",
      "LocalVol price with 100 monitoring points: 2027.1520901542478\n"
     ]
    }
   ],
   "source": [
    "ticker = \"SPX\"\n",
    "start_date = prc_dt\n",
    "T = 0.5\n",
    "\n",
    "# List of various monitoring points to analyze\n",
    "monitoring_points_list = [5, 10, 20, 50, 100]\n",
    "model = rBergomiMCModel()\n",
    "rb_data = rbergomi_data()\n",
    "rb_data[\"MC\"][\"PATHS\"] = 20_000  # very slow with 100_000, 1/250\n",
    "rb_data[\"MC\"][\"TIMESTEP\"] = 1 / 100\n",
    "# Dictionary to store prices for different monitoring points\n",
    "prices = {}\n",
    "\n",
    "# Calculate prices for different numbers of monitoring points\n",
    "for num_points in monitoring_points_list:\n",
    "    timetable = lookback_put_timetable(ticker, start_date, T, num_points)\n",
    "    price, _ = model.price(timetable, rb_data)\n",
    "    prices[num_points] = price\n",
    "    print(f\"LocalVol price with {num_points} monitoring points: {price}\")"
   ]
  },
  {
   "cell_type": "markdown",
   "metadata": {},
   "source": [
    "Note: There is clearly something wrong with the rBergomi Model which need to be investigated."
   ]
  }
 ],
 "metadata": {
  "kernelspec": {
   "display_name": "Python 3",
   "language": "python",
   "name": "python3"
  },
  "language_info": {
   "codemirror_mode": {
    "name": "ipython",
    "version": 3
   },
   "file_extension": ".py",
   "mimetype": "text/x-python",
   "name": "python",
   "nbconvert_exporter": "python",
   "pygments_lexer": "ipython3",
   "version": "3.11.9"
  }
 },
 "nbformat": 4,
 "nbformat_minor": 2
}
