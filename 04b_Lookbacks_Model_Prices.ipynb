{
 "cells": [
  {
   "cell_type": "markdown",
   "metadata": {},
   "source": [
    "# Lookback Put Options (with different Pricing Models)"
   ]
  },
  {
   "cell_type": "markdown",
   "metadata": {},
   "source": [
    "Price a Lookback option using different models. Lookback options are valuable hedging tools for financial instruments that require the ability to capitalize on the best market prices over a specific period.  For a definition of the payoff, and the dataclass to construct a lookback put option timetable, see [lookback.py](./src/contracts/lookback.py)"
   ]
  },
  {
   "cell_type": "code",
   "execution_count": 1,
   "metadata": {},
   "outputs": [],
   "source": [
    "import pandas as pd\n",
    "from finmc.models.heston import HestonMC\n",
    "from qablet.base.mc import MCPricer\n",
    "\n",
    "from data.spx_2005_09_15 import basic_info, dataset\n",
    "from src.contracts.lookback import lookback_put_timetable\n",
    "from src.model.localvol import LVMC\n",
    "from src.model.rbergomi import rBergomiMC"
   ]
  },
  {
   "cell_type": "markdown",
   "metadata": {},
   "source": [
    "Contract:\n",
    "\n",
    "Create a Lookback put option contract fixing time to maturity,T=0.2 with num of monitoring points,m=4"
   ]
  },
  {
   "cell_type": "code",
   "execution_count": 2,
   "metadata": {},
   "outputs": [
    {
     "name": "stdout",
     "output_type": "stream",
     "text": [
      "                       time   op  quantity      unit track\n",
      "0 2005-09-14 00:00:00+00:00  NaN       0.0      INIT      \n",
      "1 2005-10-02 06:18:00+00:00  NaN       0.0    UPDATE      \n",
      "2 2005-10-20 12:36:00+00:00  NaN       0.0    UPDATE      \n",
      "3 2005-11-07 18:54:00+00:00  NaN       0.0    UPDATE      \n",
      "4 2005-11-26 01:12:00+00:00    +       1.0  LOOKBACK      \n"
     ]
    }
   ],
   "source": [
    "prc_dt = basic_info[\"prc_dt\"]\n",
    "ticker = basic_info[\"ticker\"]\n",
    "\n",
    "start_date = prc_dt\n",
    "T = 0.2\n",
    "num_points = 4\n",
    "\n",
    "timetable = lookback_put_timetable(ticker, start_date, T, num_points)\n",
    "print(timetable[\"events\"].to_pandas())"
   ]
  },
  {
   "cell_type": "markdown",
   "metadata": {},
   "source": [
    "Compare Models:\n",
    "\n",
    "Compare different models, starting with Local Volatility Model."
   ]
  },
  {
   "cell_type": "code",
   "execution_count": 3,
   "metadata": {},
   "outputs": [
    {
     "name": "stdout",
     "output_type": "stream",
     "text": [
      "Localvol price: 34.00020686865014\n"
     ]
    }
   ],
   "source": [
    "models = {}\n",
    "\n",
    "model = MCPricer(LVMC)\n",
    "price, _ = model.price(timetable, dataset)\n",
    "print(f\"Localvol price: {price}\")\n",
    "models[\"Localvol\"] = model"
   ]
  },
  {
   "cell_type": "markdown",
   "metadata": {},
   "source": [
    "Heston Model:"
   ]
  },
  {
   "cell_type": "code",
   "execution_count": 4,
   "metadata": {},
   "outputs": [
    {
     "name": "stdout",
     "output_type": "stream",
     "text": [
      "Heston price: 35.12264081826051\n"
     ]
    }
   ],
   "source": [
    "model = MCPricer(HestonMC)\n",
    "price, _ = model.price(timetable, dataset)\n",
    "print(f\"Heston price: {price}\")\n",
    "models[\"Heston\"] = model"
   ]
  },
  {
   "cell_type": "markdown",
   "metadata": {},
   "source": [
    "Bergomi Model:"
   ]
  },
  {
   "cell_type": "code",
   "execution_count": 5,
   "metadata": {},
   "outputs": [
    {
     "name": "stdout",
     "output_type": "stream",
     "text": [
      "rBergomi price: 31.228086154732303\n"
     ]
    }
   ],
   "source": [
    "model = MCPricer(rBergomiMC)\n",
    "price, _ = model.price(timetable, dataset)\n",
    "print(f\"rBergomi price: {price}\")\n",
    "models[\"rBergomi\"] = model"
   ]
  },
  {
   "cell_type": "markdown",
   "metadata": {},
   "source": [
    "Contract:\n",
    "\n",
    "Create a series of Lookback put option contracts, with time to maturity, T=0.5 with num of monitoring points, m=[5,10,20,50,100]."
   ]
  },
  {
   "cell_type": "code",
   "execution_count": 6,
   "metadata": {},
   "outputs": [],
   "source": [
    "ticker = \"SPX\"\n",
    "start_date = prc_dt\n",
    "T = 0.5\n",
    "\n",
    "# List of various monitoring points to analyze\n",
    "monitoring_points_list = [5, 10, 20, 50, 100]\n",
    "timetables = []\n",
    "\n",
    "for num_points in monitoring_points_list:\n",
    "    timetable = lookback_put_timetable(ticker, start_date, T, num_points)\n",
    "    timetables.append(timetable)"
   ]
  },
  {
   "cell_type": "markdown",
   "metadata": {},
   "source": [
    "Run this series through each model."
   ]
  },
  {
   "cell_type": "code",
   "execution_count": 7,
   "metadata": {},
   "outputs": [
    {
     "name": "stdout",
     "output_type": "stream",
     "text": [
      "Localvol done\n",
      "     m   Localvol\n",
      "0    5  59.379463\n",
      "1   10  64.964001\n",
      "2   20  69.227225\n",
      "3   50  73.565489\n",
      "4  100  75.604826\n",
      "Heston done\n",
      "     m   Localvol     Heston\n",
      "0    5  59.379463  56.414852\n",
      "1   10  64.964001  60.958050\n",
      "2   20  69.227225  64.536904\n",
      "3   50  73.565489  67.702643\n",
      "4  100  75.604826  69.030882\n",
      "rBergomi done\n",
      "     m   Localvol     Heston   rBergomi\n",
      "0    5  59.379463  56.414852  55.028070\n",
      "1   10  64.964001  60.958050  59.181010\n",
      "2   20  69.227225  64.536904  62.023965\n",
      "3   50  73.565489  67.702643  64.262191\n",
      "4  100  75.604826  69.030882  65.025618\n"
     ]
    }
   ],
   "source": [
    "df = pd.DataFrame({\"m\": monitoring_points_list})\n",
    "for model_name, model in models.items():\n",
    "    df[model_name] = [\n",
    "        model.price(timetable, dataset)[0] for timetable in timetables\n",
    "    ]\n",
    "    print(f\"{model_name} done\")\n",
    "    print(df)"
   ]
  },
  {
   "cell_type": "markdown",
   "metadata": {},
   "source": [
    "## Plot"
   ]
  },
  {
   "cell_type": "code",
   "execution_count": 11,
   "metadata": {},
   "outputs": [
    {
     "data": {
      "text/plain": [
       "<Axes: title={'center': 'Lookback Put Prices'}, xlabel='m'>"
      ]
     },
     "execution_count": 11,
     "metadata": {},
     "output_type": "execute_result"
    },
    {
     "data": {
      "image/png": "[encoded data removed]",
      "text/plain": [
       "<Figure size 640x480 with 1 Axes>"
      ]
     },
     "metadata": {},
     "output_type": "display_data"
    }
   ],
   "source": [
    "df.columns\n",
    "df.plot(\n",
    "    x=\"m\",\n",
    "    y=models.keys(),\n",
    "    marker=\"o\",\n",
    "    title=\"Lookback Put Prices\",\n",
    ")"
   ]
  }
 ],
 "metadata": {
  "kernelspec": {
   "display_name": "Python 3",
   "language": "python",
   "name": "python3"
  },
  "language_info": {
   "codemirror_mode": {
    "name": "ipython",
    "version": 3
   },
   "file_extension": ".py",
   "mimetype": "text/x-python",
   "name": "python",
   "nbconvert_exporter": "python",
   "pygments_lexer": "ipython3",
   "version": "3.11.9"
  }
 },
 "nbformat": 4,
 "nbformat_minor": 2
}
